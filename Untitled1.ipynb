{
 "cells": [
  {
   "cell_type": "markdown",
   "id": "15f73534",
   "metadata": {},
   "source": [
    "# Final Project"
   ]
  },
  {
   "cell_type": "markdown",
   "id": "1be641cd",
   "metadata": {},
   "source": [
    "## Introduction "
   ]
  },
  {
   "cell_type": "markdown",
   "id": "4d62d171",
   "metadata": {},
   "source": [
    "list of data science languages : \n",
    "- plotly \n",
    "- matplotlib \n",
    "- keras\n",
    "- pandas\n"
   ]
  },
  {
   "cell_type": "markdown",
   "id": "393a95ab",
   "metadata": {},
   "source": [
    "| Tool Name         |\n",
    "|-------------------|\n",
    "| Python            |\n",
    "| Jupyter Notebook  |\n",
    "| R                 |\n",
    "| Pandas            |\n",
    "| NumPy             |\n",
    "| Scikit-Learn      |\n",
    "| TensorFlow        |\n",
    "| PyTorch           |\n",
    "| Matplotlib        |\n",
    "| Seaborn           |\n",
    "| Tableau           |\n",
    "| SQL               |\n",
    "| Git               |\n",
    "| Docker            |\n",
    "| Spark             |\n"
   ]
  },
  {
   "cell_type": "markdown",
   "id": "7232efa1",
   "metadata": {},
   "source": [
    "1. **Addition:**\n",
    "   - Adding two numbers: `2 + 3 = 5`\n",
    "   - Adding variables: `x + y`\n",
    "\n",
    "2. **Subtraction:**\n",
    "   - Subtracting two numbers: `5 - 2 = 3`\n",
    "   - Subtracting variables: `a - b`\n"
   ]
  },
  {
   "cell_type": "code",
   "execution_count": 2,
   "id": "be82651d",
   "metadata": {},
   "outputs": [
    {
     "name": "stdout",
     "output_type": "stream",
     "text": [
      "30\n",
      "11\n"
     ]
    }
   ],
   "source": [
    "a= 5\n",
    "b= 6\n",
    "print(a*b )\n",
    "print(a+b)"
   ]
  },
  {
   "cell_type": "code",
   "execution_count": 3,
   "id": "c7950c4f",
   "metadata": {},
   "outputs": [
    {
     "name": "stdout",
     "output_type": "stream",
     "text": [
      "1.1666666666666667\n"
     ]
    }
   ],
   "source": [
    "def mintohour(x):\n",
    "    return x/60\n",
    "print(mintohour(70))"
   ]
  },
  {
   "cell_type": "markdown",
   "id": "b2fba61f",
   "metadata": {},
   "source": [
    "### Objectives\n",
    "\n",
    "- R\n",
    "- python \n",
    "- julia\n",
    "- sql"
   ]
  },
  {
   "cell_type": "markdown",
   "id": "8d66f9fb",
   "metadata": {},
   "source": [
    "## Author\n",
    " AOULAD ALI Ahlan"
   ]
  },
  {
   "cell_type": "code",
   "execution_count": null,
   "id": "049176a8",
   "metadata": {},
   "outputs": [],
   "source": []
  }
 ],
 "metadata": {
  "kernelspec": {
   "display_name": "Python 3 (ipykernel)",
   "language": "python",
   "name": "python3"
  },
  "language_info": {
   "codemirror_mode": {
    "name": "ipython",
    "version": 3
   },
   "file_extension": ".py",
   "mimetype": "text/x-python",
   "name": "python",
   "nbconvert_exporter": "python",
   "pygments_lexer": "ipython3",
   "version": "3.11.5"
  }
 },
 "nbformat": 4,
 "nbformat_minor": 5
}
